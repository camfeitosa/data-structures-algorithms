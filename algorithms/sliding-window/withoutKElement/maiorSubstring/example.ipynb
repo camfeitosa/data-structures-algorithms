{
 "cells": [
  {
   "cell_type": "markdown",
   "id": "2006e4d6",
   "metadata": {},
   "source": [
    "# Maior substring sem repetir caracteres\n",
    "\n",
    "- Substring sem repetir caracteres\n",
    "- Nesse exemplo não há um tamanho para a janela"
   ]
  },
  {
   "cell_type": "code",
   "execution_count": null,
   "id": "7ffaa788",
   "metadata": {},
   "outputs": [],
   "source": [
    "def lengthOfLongestSubstring3(s):\n",
    "  l = 0\n",
    "  dic = {}\n",
    "  max_len = 0 \n",
    "\n",
    "  for i in range(len(s)):\n",
    "      if s[i] in dic and dic[s[i]] >= l: # é importante: só movemos l se o caractere repetido estiver dentro da janela atual. \n",
    "          l = dic[s[i]] + 1\n",
    "          dic[s[i]] = i \n",
    "          \n",
    "      dic[s[i]] = i\n",
    "      max_len = max(max_len, i - l + 1)\n",
    "  return max_len"
   ]
  },
  {
   "cell_type": "code",
   "execution_count": null,
   "id": "d8e53f1d",
   "metadata": {},
   "outputs": [],
   "source": [
    "def lengthOfLongestSubstring2(s):\n",
    "    l = 0\n",
    "    dic = {}\n",
    "    max_len = 0 \n",
    "\n",
    "    for i in range(len(s)):\n",
    "      # a b c a -> a repetido entra no if\n",
    "        if s[i] in dic and dic[s[i]] >= l :\n",
    "            l = dic[s[i]] + 1 # pega o indice do ultimo lugar que o caractere apareceu dic[\"a\"] = 0\n",
    "            dic[s[i]] = i \n",
    "            #dic['a'] = 0 → move l = 0 + 1 = 1\n",
    "            # dic['a'] = 3 → atualiza a posição atual de 'a'\n",
    "            # Agora a janela desliza para \"bca\", começando no índice 1.\n",
    "\n",
    "        # a b c a -> a repetiu, entra no if \n",
    "        dic[s[i]] = i # adiciona a = 0, adiciona b = 1, adiciona c = 2\n",
    "        max_len = max(max_len, i - l + 1) # 0 - 0 + 1 = 1 | 1 - 0 + 1 = 2 | 2 - 0 + 1 = 3 <-- até agora o l continua 0\n",
    "\n",
    "    return max_len\n",
    "  \n",
    "  # Define o letft = 0 \n",
    "  # Dicionario Vazio\n",
    "  # Entra no for e verifica se o s[i] está no dicionário\n",
    "    # Se tiver atualiza o valor de left para o indíce do valor repetido anterior + 1\n",
    "    # Ex;\n",
    "dic = {'a': 3, 'b': 5}\n",
    "print(dic['a'] + 1) # retorna 4 \n",
    "# atualiza dic com i atual\n",
    "\n",
    "# Senão salva os valores no dic  dic[s[i]] = i -> \"a\": 0\n",
    "# Faz o max de -> max(max_len, i - l + 1)  = 0 | 0 - 0 + 1 \n",
    "  # Primeira iteração vai dar 1 \n",
    "\n"
   ]
  }
 ],
 "metadata": {
  "language_info": {
   "name": "python"
  }
 },
 "nbformat": 4,
 "nbformat_minor": 5
}

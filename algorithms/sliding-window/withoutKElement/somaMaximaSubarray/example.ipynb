{
 "cells": [
  {
   "cell_type": "markdown",
   "id": "1b2c4a92",
   "metadata": {},
   "source": [
    "## Valor máximo de apagamento\n",
    "- Encontrar o maior subarray sem valores repetidos em um array e somar os valores encontrados"
   ]
  },
  {
   "cell_type": "code",
   "execution_count": null,
   "id": "2b8cbd06",
   "metadata": {},
   "outputs": [
    {
     "name": "stdout",
     "output_type": "stream",
     "text": [
      "37\n",
      "37\n"
     ]
    }
   ],
   "source": [
    "# Utilizando Set \n",
    "def maximumUniqueSubarray(nums):\n",
    "  l = 0\n",
    "  max_sum = 0\n",
    "  curr_sum = 0\n",
    "  seen = set()\n",
    "\n",
    "  for i in range(len(nums)):\n",
    "      while nums[i] in seen:\n",
    "          seen.remove(nums[l])\n",
    "          curr_sum -= nums[l]\n",
    "          l += 1\n",
    "\n",
    "      curr_sum += nums[i]\n",
    "      seen.add(nums[i])\n",
    "      max_sum = max(max_sum, curr_sum)\n",
    "      \n",
    "\n",
    "  return max_sum\n",
    "\n",
    "print(maximumUniqueSubarray([1, 2, 2, 5, 7, 10, 1, 12]))\n",
    "print(sum([2, 5, 7, 10, 1, 12]))"
   ]
  },
  {
   "cell_type": "code",
   "execution_count": null,
   "id": "6bc3aff6",
   "metadata": {},
   "outputs": [],
   "source": [
    "# First\n",
    "def maximumUniqueSubarray(nums):\n",
    "  l = 0\n",
    "  dic = {}\n",
    "  max_sum = 0\n",
    "\n",
    "  for i in range(len(nums)):\n",
    "      if nums[i] in dic and dic[nums[i]] >= l:\n",
    "          left = dic[nums[i]] + 1\n",
    "          dic[nums[i]] = i\n",
    "      \n",
    "      dic[nums[i]] = i\n",
    "      max_sum = max(max_sum, i - l + 1)\n",
    "      \n",
    "\n",
    "  return sum(dic)"
   ]
  }
 ],
 "metadata": {
  "kernelspec": {
   "display_name": "Python 3",
   "language": "python",
   "name": "python3"
  },
  "language_info": {
   "codemirror_mode": {
    "name": "ipython",
    "version": 3
   },
   "file_extension": ".py",
   "mimetype": "text/x-python",
   "name": "python",
   "nbconvert_exporter": "python",
   "pygments_lexer": "ipython3",
   "version": "3.11.9"
  }
 },
 "nbformat": 4,
 "nbformat_minor": 5
}

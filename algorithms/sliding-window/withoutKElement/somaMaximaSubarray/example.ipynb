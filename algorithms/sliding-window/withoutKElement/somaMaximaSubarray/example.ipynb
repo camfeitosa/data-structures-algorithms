{
 "cells": [
  {
   "cell_type": "markdown",
   "id": "1b2c4a92",
   "metadata": {},
   "source": [
    "## Valor máximo de apagamento\n",
    "- Encontrar o maior subarray sem valores repetidos em um array e somar os valores encontrados"
   ]
  },
  {
   "cell_type": "code",
   "execution_count": null,
   "id": "2b8cbd06",
   "metadata": {},
   "outputs": [],
   "source": [
    "# Utilizando Set \n",
    "def maximumUniqueSubarray(nums):\n",
    "  l = 0\n",
    "  max_sum = 0\n",
    "  curr_sum = 0\n",
    "  seen = set()\n",
    "\n",
    "  for i in range(len(nums)):\n",
    "      while nums[i] in seen:\n",
    "          seen.remove(nums[l])\n",
    "          curr_sum -= nums[l]\n",
    "          l += 1\n",
    "\n",
    "      curr_sum += nums[i]\n",
    "      seen.add(nums[i])\n",
    "      max_sum = max(max_sum, curr_sum)\n",
    "      \n",
    "\n",
    "  return max_sum"
   ]
  },
  {
   "cell_type": "code",
   "execution_count": null,
   "id": "6bc3aff6",
   "metadata": {},
   "outputs": [],
   "source": [
    "# First\n",
    "def maximumUniqueSubarray(nums):\n",
    "  l = 0\n",
    "  dic = {}\n",
    "  max_sum = 0\n",
    "\n",
    "  for i in range(len(nums)):\n",
    "      if nums[i] in dic and dic[nums[i]] >= l:\n",
    "          left = dic[nums[i]] + 1\n",
    "          dic[nums[i]] = i\n",
    "      \n",
    "      dic[nums[i]] = i\n",
    "      max_sum = max(max_sum, i - l + 1)\n",
    "      \n",
    "\n",
    "  return sum(dic)"
   ]
  }
 ],
 "metadata": {
  "language_info": {
   "name": "python"
  }
 },
 "nbformat": 4,
 "nbformat_minor": 5
}

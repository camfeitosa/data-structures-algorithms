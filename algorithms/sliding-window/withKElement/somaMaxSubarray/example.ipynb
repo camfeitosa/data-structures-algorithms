{
 "cells": [
  {
   "cell_type": "markdown",
   "id": "f06345a4",
   "metadata": {},
   "source": [
    "# Como resolver\n",
    "\n",
    "- 1 - Definir a soma atual da janela ->  window_sum = sum(arr[:k])\n",
    "- 2 - Definir valor de left\n",
    "- 3 - Definir a var max_sum -> max_sum = window_sum\n",
    "- 4 - Na iteração fazer o cálculo atual\n",
    "  - 🟢 window_sum = window_sum + nums[i] - nums[left] # soma anterior + valor atual i - left antigo\n",
    "- 5 - Comparar qual é maior - max_sum ou calculo_atual"
   ]
  },
  {
   "cell_type": "code",
   "execution_count": 1,
   "id": "245df379",
   "metadata": {},
   "outputs": [
    {
     "name": "stdout",
     "output_type": "stream",
     "text": [
      "57\n"
     ]
    }
   ],
   "source": [
    "def max_sum(arr, k):\n",
    "    # 1) soma inicial da primeira janela [0..k-1]\n",
    "    window_sum = sum(arr[:k])\n",
    "    max_sum = window_sum\n",
    "    left = 0\n",
    "\n",
    "    # 2) desliza a janela: right vai de k até o fim\n",
    "    for right in range(k, len(arr)):\n",
    "        # entra arr[right], sai arr[left]\n",
    "        window_sum += arr[right] - arr[left]\n",
    "        left += 1  # andou a borda esquerda\n",
    "        max_sum = max(max_sum, window_sum)\n",
    "\n",
    "    return max_sum\n",
    "\n",
    "print(max_sum([1, 43, 6, 8, 2, 3, 2], 3)) # [43, 6, 8] = 57"
   ]
  },
  {
   "cell_type": "markdown",
   "id": "71aae335",
   "metadata": {},
   "source": [
    "# Subarray média máxima - LeetCode\n",
    "somar os k elementos e dividir por k \n"
   ]
  },
  {
   "cell_type": "code",
   "execution_count": 2,
   "id": "4db64711",
   "metadata": {},
   "outputs": [
    {
     "name": "stdout",
     "output_type": "stream",
     "text": [
      "24.6\n"
     ]
    }
   ],
   "source": [
    "def findMaxAverage(nums, k):\n",
    "    window_sum = sum(nums[:k]) \n",
    "    max_sum = window_sum\n",
    "    left = 0\n",
    "\n",
    "    if len(nums) == 1:\n",
    "        return window_sum\n",
    "\n",
    "    for i in range(k, len(nums)):\n",
    "        window_sum = window_sum + nums[i] - nums[left] # soma anterior + valor atual i - left antigo\n",
    "        left+=1\n",
    "        max_sum = max(max_sum, window_sum)\n",
    "    return max_sum / k\n",
    "  \n",
    "print(findMaxAverage([12, 34, 5,6 ,6 ,72,3], 5))"
   ]
  },
  {
   "cell_type": "markdown",
   "id": "59747fda",
   "metadata": {},
   "source": [
    "## Slice no python "
   ]
  },
  {
   "cell_type": "code",
   "execution_count": 3,
   "id": "d7829e51",
   "metadata": {},
   "outputs": [
    {
     "name": "stdout",
     "output_type": "stream",
     "text": [
      "[1, 4, 6]\n"
     ]
    }
   ],
   "source": [
    "# Explicação \n",
    "# nums[a:b] => slice\n",
    "\n",
    "arr = [1, 4, 6, 8, 9]\n",
    "k = 3\n",
    "\n",
    "print(arr[:k]) # slice do índice 0 até o índice 2 (3 primeiros elementos)\n",
    "# retorna [1, 4, 6]"
   ]
  },
  {
   "cell_type": "markdown",
   "id": "a541f154",
   "metadata": {},
   "source": [
    "# Sum()"
   ]
  },
  {
   "cell_type": "code",
   "execution_count": 4,
   "id": "858f7a70",
   "metadata": {},
   "outputs": [
    {
     "name": "stdout",
     "output_type": "stream",
     "text": [
      "8\n",
      "11\n"
     ]
    }
   ],
   "source": [
    "#sum() -> soma os valores de um iteravel (array)\n",
    "soma = sum([2, 5, 1])\n",
    "print(soma) # retorna 8\n",
    "\n",
    "print(sum(arr[:k])) # soma dos k primeiros elementos"
   ]
  },
  {
   "cell_type": "markdown",
   "id": "ca3e5128",
   "metadata": {},
   "source": [
    "# Max()"
   ]
  },
  {
   "cell_type": "code",
   "execution_count": 5,
   "id": "7bc8f054",
   "metadata": {},
   "outputs": [
    {
     "name": "stdout",
     "output_type": "stream",
     "text": [
      "Valor maximo 9\n"
     ]
    }
   ],
   "source": [
    "# max() -> retorna o valor máximo entre os valores dentro de max\n",
    "print(\"Valor maximo\", max(2, 5, 9)) # retorna 9\n",
    "# max_sum = max(max_sum, calculo_atual) -> retorna qual o valor máximo entre o valor guardado antigo e o atual"
   ]
  },
  {
   "cell_type": "code",
   "execution_count": 6,
   "id": "fd16c4a9",
   "metadata": {},
   "outputs": [
    {
     "data": {
      "text/plain": [
       "[3, 4, 5]"
      ]
     },
     "execution_count": 6,
     "metadata": {},
     "output_type": "execute_result"
    }
   ],
   "source": [
    "# janela deslizante vai atualizar o valor de left para left += 1 e iterar o valor de right para i+=1\n",
    "\n",
    "k = 3\n",
    "[1, 2, 3, 4, 5, 6]\n",
    "[1, 2, 3] # primeira janela = 6\n",
    "\n",
    "# left +=1 | 4 -> right atual\n",
    "# iteração começa no índice 3 \n",
    "[2, 3, 4] # segunda janela = 9\n",
    "\n",
    "# left += 1\n",
    "[3, 4, 5] # 9 (soma anterior) + 5 (iteração atual do i) - 2 (left antigo)  = 12\n",
    "# soma anterior + valor atual i - left antigo\n",
    "# janela desliza para a direita, ou seja, um valor da esquerda sai e um valor da direita entra"
   ]
  }
 ],
 "metadata": {
  "kernelspec": {
   "display_name": "Python 3",
   "language": "python",
   "name": "python3"
  },
  "language_info": {
   "codemirror_mode": {
    "name": "ipython",
    "version": 3
   },
   "file_extension": ".py",
   "mimetype": "text/x-python",
   "name": "python",
   "nbconvert_exporter": "python",
   "pygments_lexer": "ipython3",
   "version": "3.11.9"
  }
 },
 "nbformat": 4,
 "nbformat_minor": 5
}

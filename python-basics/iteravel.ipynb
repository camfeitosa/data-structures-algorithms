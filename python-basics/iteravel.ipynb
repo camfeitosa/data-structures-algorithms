{
 "cells": [
  {
   "cell_type": "markdown",
   "id": "96593a85",
   "metadata": {},
   "source": [
    "### Métodos mais utilizados em Array Python"
   ]
  },
  {
   "cell_type": "code",
   "execution_count": null,
   "id": "e350e009",
   "metadata": {},
   "outputs": [
    {
     "name": "stdout",
     "output_type": "stream",
     "text": [
      "['Oi']\n"
     ]
    }
   ],
   "source": [
    "arr = []\n",
    "\n",
    "# adicionar \n",
    "arr.append(\"Oi\")\n",
    "print(arr)"
   ]
  },
  {
   "cell_type": "markdown",
   "id": "45c43646",
   "metadata": {},
   "source": [
    "### Métodos do dicionário (hasmap) Python"
   ]
  },
  {
   "cell_type": "code",
   "execution_count": null,
   "id": "e5b8c057",
   "metadata": {},
   "outputs": [
    {
     "name": "stdout",
     "output_type": "stream",
     "text": [
      "{'Chave': 'Valor'}\n",
      "Valor\n",
      "Valor\n",
      "Chave\n",
      "{'Chave': 'Valor'}\n",
      "Chave: Chave, Valor: Valor\n"
     ]
    }
   ],
   "source": [
    "dic = {}\n",
    "\n",
    "# adicionar\n",
    "dic[\"Chave\"] = \"Valor\"\n",
    "print(dic)\n",
    "\n",
    "# Acessar valor\n",
    "print(dic[\"Chave\"]) # retorn 'Valor'\n",
    "print(dic.get(\"Chave\"))\n",
    "\n",
    "# Acessar chave\n",
    "for chave in dic:\n",
    "  print(chave)\n",
    "  \n",
    "if \"Chave\" in dic:\n",
    "  print(dic)\n",
    "  \n",
    "# Acessar chave e valor\n",
    "for chave, valor in dic.items():\n",
    "    print(f\"Chave: {chave}, Valor: {valor}\")"
   ]
  },
  {
   "cell_type": "markdown",
   "id": "8f2a0c35",
   "metadata": {},
   "source": [
    "### Métodos do Set Python -> conjuntos\n",
    "\n",
    "Sets não possuem ordem nem índices"
   ]
  },
  {
   "cell_type": "code",
   "execution_count": null,
   "id": "ed7c1944",
   "metadata": {},
   "outputs": [
    {
     "name": "stdout",
     "output_type": "stream",
     "text": [
      "{1, 3, 4, 5, 6}\n",
      "Set {1, 2, 3, 4}\n",
      "{'roxo', 'laranja', 'azul'}\n",
      "roxo\n",
      "laranja\n",
      "azul\n",
      "Sem lilás\n",
      "Tem roxo no conjunto\n"
     ]
    }
   ],
   "source": [
    "arr = [1, 1, 3, 4, 5, 5, 6, 6]\n",
    "\n",
    "# Criar um set \n",
    "print(set(arr)) # método set()\n",
    "print(\"Set\", {1, 2, 3, 4})\n",
    "\n",
    "# Adicionar\n",
    "cores = {\"azul\", \"roxo\"}\n",
    "cores.add(\"laranja\")\n",
    "print(cores)\n",
    "\n",
    "# Acessar itens\n",
    "for cor in cores:\n",
    "  print(cor)\n",
    "  \n",
    "if \"lilás\" not in cores:\n",
    "  print(\"Sem lilás\")\n",
    "  \n",
    "if \"roxo\" in cores:\n",
    "  print(\"Tem roxo no conjunto\")"
   ]
  },
  {
   "cell_type": "markdown",
   "id": "4f95aa41",
   "metadata": {},
   "source": [
    "### Operações de conjuntos (Set Operations)\n",
    "- Os sets também suportam operações matemáticas como união, interseção e diferença. \n",
    "- union() ou |: Retorna um novo set com todos os itens de ambos os conjuntos.\n",
    "- intersection() ou &: Retorna um novo set com os itens que são comuns a ambos os conjuntos.\n",
    "- difference() ou -: Retorna um novo set com os itens do primeiro set que não estão no segundo."
   ]
  },
  {
   "cell_type": "code",
   "execution_count": null,
   "id": "487e8e2b",
   "metadata": {},
   "outputs": [],
   "source": [
    "class Solution:\n",
    "    def hasMatch(self, string: str, pattern: str) -> bool:\n",
    "        left_part, right_part = pattern.split('*')\n",
    "\n",
    "        left_idx = string.find(left_part)\n",
    "        right_idx = string.find(right_part, left_idx + len(left_part))\n",
    "\n",
    "        return left_idx != -1 and right_idx != -1"
   ]
  },
  {
   "cell_type": "code",
   "execution_count": 22,
   "metadata": {},
   "outputs": [
    {
     "name": "stdout",
     "output_type": "stream",
     "text": [
      "['p', 'rogra']\n",
      "p\n",
      "rogra\n"
     ]
    }
   ],
   "source": [
    "string = \"p*rogra\"\n",
    "left_part, right_part = string.split('*')\n",
    "\n",
    "teste = string.split('*')\n",
    "print(teste)\n",
    "\n",
    "print(left_part)\n",
    "print(right_part)"
   ]
  }
 ],
 "metadata": {
  "kernelspec": {
   "display_name": "Python 3",
   "language": "python",
   "name": "python3"
  },
  "language_info": {
   "codemirror_mode": {
    "name": "ipython",
    "version": 3
   },
   "file_extension": ".py",
   "mimetype": "text/x-python",
   "name": "python",
   "nbconvert_exporter": "python",
   "pygments_lexer": "ipython3",
   "version": "3.11.9"
  }
 },
 "nbformat": 4,
 "nbformat_minor": 5
}
